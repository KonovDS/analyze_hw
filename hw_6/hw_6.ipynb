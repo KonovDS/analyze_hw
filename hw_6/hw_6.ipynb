{
 "cells": [
  {
   "cell_type": "markdown",
   "id": "c5b24f63",
   "metadata": {},
   "source": [
    "# Решаем задачу классификации без учителя - задачу кластеризации"
   ]
  },
  {
   "cell_type": "markdown",
   "id": "4f52f88e",
   "metadata": {},
   "source": [
    "Используем два набора данных по оригинальной ссылке: kos, nips."
   ]
  },
  {
   "cell_type": "markdown",
   "id": "b487844f",
   "metadata": {},
   "source": [
    "Классифицируем статьи. В словаре nips, например, 12420 слов. То есть каждой статье в соотвествие можно поставить вектор фич размерности 12420. Многовато. \\\n",
    "При этом всего статей 1500 и 746 тысяч слов. $1500*12420 = 18,630,000$ - число ячеек в таблице со всеми статьями и их векторами фич. $1500^2 = 2,250,000$ - число \"расстояний\" между статьями"
   ]
  },
  {
   "cell_type": "markdown",
   "id": "375ae14c",
   "metadata": {},
   "source": [
    "Так как метрику мы свободны выбирать сами, то сделаем так. Расстояние между статьями будет определяться суммой числа уникальных слов в одной относительно другой ( / на число слов в словаре).\n",
    "Тогда для идентичных статей (на самом деле bag-of-word - ов) расстояние будет 0. Для двух bag-of words без единого пересечения расстояние будет 1 (либо какое-то конечное число).\n",
    "\n",
    "Докажем, что это метрика.\n",
    "Неотрицательность очевидна.\n",
    "Равенство нулю тогда и только когда bag-of-words идентичны, очевидна.\n",
    "Докажем неравенство треугольника"
   ]
  },
  {
   "cell_type": "markdown",
   "id": "07a3882b",
   "metadata": {},
   "source": [
    "Пусть число уникальных слов обозначается матрицей $n_{ij}$. Под $n_{ii}$ имеем ввиду абсолютно уникальные слова $i$-ой статьи, а под $n_{ij} \\ i \\neq j$ - уникальные слова в статье $i$ по отношению к $j$."
   ]
  },
  {
   "cell_type": "markdown",
   "id": "4f0001c8",
   "metadata": {},
   "source": [
    "$n_{ij} \\neq n_{ji}$, очевидно. Также $ \\forall \\ i  :\\ n_{ji} >= n_{jj}$"
   ]
  },
  {
   "cell_type": "markdown",
   "id": "ed6ad8e4",
   "metadata": {},
   "source": [
    "Неравенство треугольника можно доказать по диаграммам Эйлера.\n",
    "\n",
    "\n",
    "ВЕСЬ ОСНОВНОЙ КОД НАПИСАН НА C++ И ПРИЛОЖЕН В РЕПОЗИТОРИИ"
   ]
  },
  {
   "cell_type": "markdown",
   "id": "75f01888",
   "metadata": {},
   "source": [
    "## Сначала графовые алгоритмы"
   ]
  },
  {
   "cell_type": "code",
   "execution_count": 5,
   "id": "8b4a826c",
   "metadata": {},
   "outputs": [],
   "source": [
    "import numpy as np\n",
    "import matplotlib.pyplot as plt"
   ]
  },
  {
   "cell_type": "markdown",
   "id": "0d954cbf",
   "metadata": {},
   "source": [
    "Сначала nips:"
   ]
  },
  {
   "cell_type": "code",
   "execution_count": 14,
   "id": "b21150bd",
   "metadata": {},
   "outputs": [
    {
     "data": {
      "image/png": "[encoded data removed]",
      "text/plain": [
       "<Figure size 432x288 with 1 Axes>"
      ]
     },
     "metadata": {
      "needs_background": "light"
     },
     "output_type": "display_data"
    }
   ],
   "source": [
    "f = open('out1.txt', 'r')\n",
    "for line in f:\n",
    "    xx = line.split(sep=\" \")\n",
    "    x = []\n",
    "    for y in xx:\n",
    "        if(y!=''):\n",
    "            x.append(int(y))\n",
    "    plt.plot(x)\n",
    "    plt.show()"
   ]
  },
  {
   "cell_type": "markdown",
   "id": "72ddbf7c",
   "metadata": {},
   "source": [
    "Данная гистограмма распределений расстояний между статьями не имеет выраженных двух пиков (как ожидалось)\n",
    "\n",
    "\n",
    "kos:"
   ]
  },
  {
   "cell_type": "code",
   "execution_count": 15,
   "id": "1e478dd8",
   "metadata": {},
   "outputs": [
    {
     "data": {
      "image/png": "[encoded data removed]",
      "text/plain": [
       "<Figure size 432x288 with 1 Axes>"
      ]
     },
     "metadata": {
      "needs_background": "light"
     },
     "output_type": "display_data"
    }
   ],
   "source": [
    "f = open('out2.txt', 'r')\n",
    "for line in f:\n",
    "    xx = line.split(sep=\" \")\n",
    "    x = []\n",
    "    for y in xx:\n",
    "        if(y!=''):\n",
    "            x.append(int(y))\n",
    "    plt.plot(x)\n",
    "    plt.show()"
   ]
  },
  {
   "cell_type": "markdown",
   "id": "7995b2f3",
   "metadata": {},
   "source": [
    "Попробуем алгоритм кратчайшего незамкнутого пути. Почему? Он самый простой для реализации и предлагает контроль за числом классов. Наверное в нашем случае, что видно по BarChart-у,лучше мин-максить функционалы внутрикластерного и междукластерного расстояния, так как исходя из этого графика, возможно наличие достаточно толстых перемычек между классами"
   ]
  },
  {
   "cell_type": "code",
   "execution_count": null,
   "id": "aab329f7",
   "metadata": {},
   "outputs": [],
   "source": []
  }
 ],
 "metadata": {
  "kernelspec": {
   "display_name": "Python 3 (ipykernel)",
   "language": "python",
   "name": "python3"
  },
  "language_info": {
   "codemirror_mode": {
    "name": "ipython",
    "version": 3
   },
   "file_extension": ".py",
   "mimetype": "text/x-python",
   "name": "python",
   "nbconvert_exporter": "python",
   "pygments_lexer": "ipython3",
   "version": "3.9.6"
  }
 },
 "nbformat": 4,
 "nbformat_minor": 5
}
