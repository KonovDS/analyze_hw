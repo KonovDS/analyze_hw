{
 "cells": [
  {
   "cell_type": "markdown",
   "id": "03bfabb6",
   "metadata": {},
   "source": [
    "# Сначала реализуем класс лог регрессии"
   ]
  },
  {
   "cell_type": "code",
   "execution_count": 1,
   "id": "d2d71d6f",
   "metadata": {},
   "outputs": [],
   "source": [
    "import numpy as np\n",
    "import torch as T\n",
    "import time\n",
    "device = 'cpu'\n",
    "\n",
    "\n",
    "class LogisticRegression:\n",
    "\n",
    "    def __init__(self, num_features):\n",
    "        self.x_dim = num_features\n",
    "        self.b = np.array(1)\n",
    "\n",
    "        lo = -0.01\n",
    "        hi = 0.01\n",
    "        self.w = T.rand(dim_x, dtype=T.float32, requires_grad=True).to(device)\n",
    "        self.w = (hi - lo) * self.w + lo\n",
    "        self.w.grad = T.zeros(dim_x)\n",
    "        self.w.retain_grad()\n",
    "\n",
    "        self.b = T.zeros(1, dtype=T.float32, requires_grad=True).to(device)\n",
    "        self.b.grad = T.zeros(1)\n",
    "        self.b.retain_grad()\n",
    "\n",
    "    @staticmethod\n",
    "    def forward(x, w, b):\n",
    "        z = T.dot(x, w).reshape(1)\n",
    "        z += b\n",
    "        p = 1 / (1 + T.exp(-z))\n",
    "        return p\n",
    "\n",
    "    def train(self, train_x, train_y, num,  lrn_rate, epochs, reg=0, verbose=0):\n",
    "        indices = np.arange(num)\n",
    "\n",
    "        for epoch in range(0, epochs):\n",
    "            tot_loss = T.zeros(1, dtype=T.float32, requires_grad=True).to(device)\n",
    "            tot_loss.grad = T.zeros(1)\n",
    "            tot_loss.retain_grad()\n",
    "\n",
    "            np.random.shuffle(indices)\n",
    "            for ii in range(len(indices)):\n",
    "                i = indices[ii]\n",
    "                x = train_x[i]\n",
    "                target = train_y[i]\n",
    "                out = self.forward(x, self.w, self.b)\n",
    "                loss = (out - target).pow(2).sum()  # l2\n",
    "                tot_loss = loss + tot_loss\n",
    "\n",
    "            if reg == 1:\n",
    "                tot_loss = tot_loss + T.norm(self.w, p=1)\n",
    "            elif reg == 2:\n",
    "                tot_loss = tot_loss + T.norm(self.w, p=2)\n",
    "\n",
    "            tot_loss.backward(retain_graph=True)  # compute gradients\n",
    "\n",
    "            self.w.data += -1 * lrn_rate * self.w.grad.data\n",
    "            self.b.data += -1 * lrn_rate * self.b.grad.data\n",
    "\n",
    "            self.w.grad = T.zeros(dim_x)\n",
    "            self.b.grad = T.zeros(1)\n",
    "\n",
    "            if epoch % verbose == 0:\n",
    "                print(\"epoch = %4d \" % epoch, end=\"\")\n",
    "                print(\"   loss = %6.4f\" % (tot_loss / num))\n",
    "\n",
    "    def predict(self, x):\n",
    "        return T.matmul(x, self.w) + self.b\n",
    "\n",
    "    def results(self, name=''):\n",
    "        print(\"Коэффициенты модели\", name)\n",
    "        print(self.w.detach().numpy(), self.b.detach().numpy())\n",
    "\n"
   ]
  },
  {
   "cell_type": "code",
   "execution_count": 2,
   "id": "d7032f3e",
   "metadata": {},
   "outputs": [],
   "source": [
    "seed = time.time()\n",
    "T.manual_seed(int(seed))\n",
    "np.random.seed(int(seed))\n",
    "\n",
    "num = 100  # общее число точек в данных\n",
    "dim_x = 5  # число фич\n",
    "sigma = 0  # дисперсия случайного шума в выборке"
   ]
  },
  {
   "cell_type": "markdown",
   "id": "cd0fd135",
   "metadata": {},
   "source": [
    "# Проверим на сгенерированных данных"
   ]
  },
  {
   "cell_type": "code",
   "execution_count": 4,
   "id": "e87cc179",
   "metadata": {},
   "outputs": [
    {
     "name": "stdout",
     "output_type": "stream",
     "text": [
      "epoch =    0    loss = 1.2500\n",
      "epoch =   10    loss = 0.6171\n",
      "epoch =   20    loss = 0.5928\n",
      "epoch =   30    loss = 0.5807\n",
      "epoch =   40    loss = 0.5731\n",
      "epoch =   50    loss = 0.5676\n",
      "epoch =   60    loss = 0.5635\n",
      "epoch =   70    loss = 0.5601\n",
      "epoch =   80    loss = 0.5574\n",
      "epoch =   90    loss = 0.5551\n",
      "Коэффициенты модели без регуляризация\n",
      "[4.0834093 2.5109665 3.8863547 4.554378  4.599452 ] [-1.2394233]\n",
      "Оригинальные коэффициенты:\n",
      "[4.48947665 2.82845077 3.86774258 4.45327993 3.99560923] [0.39382708]\n"
     ]
    }
   ],
   "source": [
    "true_w = np.random.rand(dim_x)\n",
    "true_b = np.random.rand(1)\n",
    "# Считаем что данные (точки) тоже нормально распределены. Зато можно их не нормировать!\n",
    "train_x = np.random.normal(size=(num, dim_x))\n",
    "train_y = np.dot(train_x, true_w) + true_b\n",
    "# Добавляем шум (гауссовский с дисперсией sigma)\n",
    "if sigma != 0:\n",
    "    train_x += np.random.normal(scale=sigma, size=(num, dim_x))\n",
    "\n",
    "train_x = T.tensor(train_x, dtype=T.float32).to(device)\n",
    "train_y = T.tensor(np.sign(train_y), dtype=T.long).to(device)\n",
    "\n",
    "# Теперь делаем логистическую регрессию\n",
    "\n",
    "res = LogisticRegression(dim_x)\n",
    "res.train(train_x, train_y, num, 0.05, 100, reg=0, verbose=10)\n",
    "res.results('без регуляризация')\n",
    "\n",
    "# Сделаем проверку коэффциентов\n",
    "print(\"Оригинальные коэффициенты:\")\n",
    "c = true_w.mean() / res.w.detach().numpy().mean()\n",
    "print(true_w / c, true_b / c)"
   ]
  },
  {
   "cell_type": "code",
   "execution_count": 63,
   "id": "359bc721",
   "metadata": {},
   "outputs": [
    {
     "name": "stdout",
     "output_type": "stream",
     "text": [
      "Проверяем модель:\n",
      "-3.0102863 -0.87553096\n",
      "-3.0102863 3.6029117\n",
      "-2.7049305 1.9667728\n",
      "-2.5397189 -4.5294027\n",
      "-2.5397189 -4.2862234\n",
      "-2.5397189 2.1967945\n",
      "-2.353759 -3.9826279\n",
      "-2.6958566 -0.8252412\n",
      "-2.9329054 -1.4006189\n",
      "-3.3503954 -3.4682229\n",
      "Ошибок произведено 3 из 10\n"
     ]
    }
   ],
   "source": [
    "# Сделаем проверку на второй части выборки\n",
    "num_2 = 10  # Число точек в проверочной выборке\n",
    "x = np.random.normal(size=(num_2, dim_x))\n",
    "y = np.dot(train_x, true_w) + true_b\n",
    "x = T.tensor(x, dtype=T.float32).to(device)\n",
    "y = T.tensor(y, dtype=T.float32).to(device).detach().numpy()\n",
    "y_p = res.predict(x).detach().numpy()\n",
    "\n",
    "print(\"Проверяем модель:\")\n",
    "errors = 0\n",
    "for i in range(num_2):\n",
    "    print(y[i], y_p[i])\n",
    "    if y[i] * y_p[i] < 0:\n",
    "        errors += 1\n",
    "print(\"Ошибок произведено\", errors, \"из\", num_2)"
   ]
  },
  {
   "cell_type": "markdown",
   "id": "15ee99dd",
   "metadata": {},
   "source": [
    "Так себе, но допустим"
   ]
  },
  {
   "cell_type": "markdown",
   "id": "12ffc68a",
   "metadata": {},
   "source": [
    "# Теперь используем для погоды в Шанхае"
   ]
  },
  {
   "cell_type": "code",
   "execution_count": 8,
   "id": "d7bc94c3",
   "metadata": {},
   "outputs": [],
   "source": [
    "import pandas as pd\n",
    "from sklearn.model_selection import train_test_split"
   ]
  },
  {
   "cell_type": "code",
   "execution_count": 24,
   "id": "77afb452",
   "metadata": {},
   "outputs": [],
   "source": [
    "data = pd.read_csv('Shanghai_HMT_2010.csv')\n",
    "data = data.dropna()"
   ]
  },
  {
   "cell_type": "code",
   "execution_count": 25,
   "id": "59babc5c",
   "metadata": {},
   "outputs": [],
   "source": [
    "for x in ['day', 'hour', 'PM_Jingan', 'PM_US Post' , 'PM_Xuhui', 'Iws', 'precipitation', 'Iprec', 'No', 'year', 'cbwd']:\n",
    "    data = data.drop(x, axis=1)"
   ]
  },
  {
   "cell_type": "code",
   "execution_count": 30,
   "id": "c9345466",
   "metadata": {},
   "outputs": [
    {
     "data": {
      "text/html": [
       "<div>\n",
       "<style scoped>\n",
       "    .dataframe tbody tr th:only-of-type {\n",
       "        vertical-align: middle;\n",
       "    }\n",
       "\n",
       "    .dataframe tbody tr th {\n",
       "        vertical-align: top;\n",
       "    }\n",
       "\n",
       "    .dataframe thead th {\n",
       "        text-align: right;\n",
       "    }\n",
       "</style>\n",
       "<table border=\"1\" class=\"dataframe\">\n",
       "  <thead>\n",
       "    <tr style=\"text-align: right;\">\n",
       "      <th></th>\n",
       "      <th>month</th>\n",
       "      <th>season</th>\n",
       "      <th>DEWP</th>\n",
       "      <th>HUMI</th>\n",
       "      <th>PRES</th>\n",
       "      <th>TEMP</th>\n",
       "    </tr>\n",
       "  </thead>\n",
       "  <tbody>\n",
       "    <tr>\n",
       "      <th>26304</th>\n",
       "      <td>-1.557791</td>\n",
       "      <td>1.347979</td>\n",
       "      <td>-1.704071</td>\n",
       "      <td>0.018112</td>\n",
       "      <td>0.774887</td>\n",
       "      <td>-1.961308</td>\n",
       "    </tr>\n",
       "    <tr>\n",
       "      <th>26305</th>\n",
       "      <td>-1.557791</td>\n",
       "      <td>1.347979</td>\n",
       "      <td>-1.704071</td>\n",
       "      <td>0.018112</td>\n",
       "      <td>0.774887</td>\n",
       "      <td>-1.961308</td>\n",
       "    </tr>\n",
       "    <tr>\n",
       "      <th>26307</th>\n",
       "      <td>-1.557791</td>\n",
       "      <td>1.347979</td>\n",
       "      <td>-1.598843</td>\n",
       "      <td>0.317001</td>\n",
       "      <td>0.774887</td>\n",
       "      <td>-1.961308</td>\n",
       "    </tr>\n",
       "    <tr>\n",
       "      <th>26308</th>\n",
       "      <td>-1.557791</td>\n",
       "      <td>1.347979</td>\n",
       "      <td>-1.598843</td>\n",
       "      <td>0.628044</td>\n",
       "      <td>0.774887</td>\n",
       "      <td>-2.072632</td>\n",
       "    </tr>\n",
       "    <tr>\n",
       "      <th>26309</th>\n",
       "      <td>-1.557791</td>\n",
       "      <td>1.347979</td>\n",
       "      <td>-1.598843</td>\n",
       "      <td>0.628044</td>\n",
       "      <td>0.774887</td>\n",
       "      <td>-2.072632</td>\n",
       "    </tr>\n",
       "    <tr>\n",
       "      <th>...</th>\n",
       "      <td>...</td>\n",
       "      <td>...</td>\n",
       "      <td>...</td>\n",
       "      <td>...</td>\n",
       "      <td>...</td>\n",
       "      <td>...</td>\n",
       "    </tr>\n",
       "    <tr>\n",
       "      <th>52578</th>\n",
       "      <td>1.607977</td>\n",
       "      <td>1.347979</td>\n",
       "      <td>-1.388386</td>\n",
       "      <td>-0.450938</td>\n",
       "      <td>2.114730</td>\n",
       "      <td>-1.404688</td>\n",
       "    </tr>\n",
       "    <tr>\n",
       "      <th>52579</th>\n",
       "      <td>1.607977</td>\n",
       "      <td>1.347979</td>\n",
       "      <td>-1.283157</td>\n",
       "      <td>-0.195695</td>\n",
       "      <td>2.114730</td>\n",
       "      <td>-1.404688</td>\n",
       "    </tr>\n",
       "    <tr>\n",
       "      <th>52580</th>\n",
       "      <td>1.607977</td>\n",
       "      <td>1.347979</td>\n",
       "      <td>-1.072701</td>\n",
       "      <td>0.088277</td>\n",
       "      <td>2.114730</td>\n",
       "      <td>-1.293365</td>\n",
       "    </tr>\n",
       "    <tr>\n",
       "      <th>52581</th>\n",
       "      <td>1.607977</td>\n",
       "      <td>1.347979</td>\n",
       "      <td>-1.072701</td>\n",
       "      <td>0.088277</td>\n",
       "      <td>2.226384</td>\n",
       "      <td>-1.293365</td>\n",
       "    </tr>\n",
       "    <tr>\n",
       "      <th>52582</th>\n",
       "      <td>1.607977</td>\n",
       "      <td>1.347979</td>\n",
       "      <td>-1.177929</td>\n",
       "      <td>0.076675</td>\n",
       "      <td>2.114730</td>\n",
       "      <td>-1.404688</td>\n",
       "    </tr>\n",
       "  </tbody>\n",
       "</table>\n",
       "<p>21436 rows × 6 columns</p>\n",
       "</div>"
      ],
      "text/plain": [
       "          month    season      DEWP      HUMI      PRES      TEMP\n",
       "26304 -1.557791  1.347979 -1.704071  0.018112  0.774887 -1.961308\n",
       "26305 -1.557791  1.347979 -1.704071  0.018112  0.774887 -1.961308\n",
       "26307 -1.557791  1.347979 -1.598843  0.317001  0.774887 -1.961308\n",
       "26308 -1.557791  1.347979 -1.598843  0.628044  0.774887 -2.072632\n",
       "26309 -1.557791  1.347979 -1.598843  0.628044  0.774887 -2.072632\n",
       "...         ...       ...       ...       ...       ...       ...\n",
       "52578  1.607977  1.347979 -1.388386 -0.450938  2.114730 -1.404688\n",
       "52579  1.607977  1.347979 -1.283157 -0.195695  2.114730 -1.404688\n",
       "52580  1.607977  1.347979 -1.072701  0.088277  2.114730 -1.293365\n",
       "52581  1.607977  1.347979 -1.072701  0.088277  2.226384 -1.293365\n",
       "52582  1.607977  1.347979 -1.177929  0.076675  2.114730 -1.404688\n",
       "\n",
       "[21436 rows x 6 columns]"
      ]
     },
     "execution_count": 30,
     "metadata": {},
     "output_type": "execute_result"
    }
   ],
   "source": [
    "data -= data.mean()\n",
    "data /= data.std()\n",
    "data"
   ]
  },
  {
   "cell_type": "code",
   "execution_count": 31,
   "id": "9531d0f0",
   "metadata": {},
   "outputs": [],
   "source": [
    "data['PRES'] = data['PRES'].apply(lambda x: 1 if x > 0 else 0)"
   ]
  },
  {
   "cell_type": "code",
   "execution_count": 32,
   "id": "04ca9181",
   "metadata": {},
   "outputs": [
    {
     "data": {
      "text/html": [
       "<div>\n",
       "<style scoped>\n",
       "    .dataframe tbody tr th:only-of-type {\n",
       "        vertical-align: middle;\n",
       "    }\n",
       "\n",
       "    .dataframe tbody tr th {\n",
       "        vertical-align: top;\n",
       "    }\n",
       "\n",
       "    .dataframe thead th {\n",
       "        text-align: right;\n",
       "    }\n",
       "</style>\n",
       "<table border=\"1\" class=\"dataframe\">\n",
       "  <thead>\n",
       "    <tr style=\"text-align: right;\">\n",
       "      <th></th>\n",
       "      <th>month</th>\n",
       "      <th>season</th>\n",
       "      <th>DEWP</th>\n",
       "      <th>HUMI</th>\n",
       "      <th>PRES</th>\n",
       "      <th>TEMP</th>\n",
       "    </tr>\n",
       "  </thead>\n",
       "  <tbody>\n",
       "    <tr>\n",
       "      <th>26304</th>\n",
       "      <td>-1.557791</td>\n",
       "      <td>1.347979</td>\n",
       "      <td>-1.704071</td>\n",
       "      <td>0.018112</td>\n",
       "      <td>1</td>\n",
       "      <td>-1.961308</td>\n",
       "    </tr>\n",
       "    <tr>\n",
       "      <th>26305</th>\n",
       "      <td>-1.557791</td>\n",
       "      <td>1.347979</td>\n",
       "      <td>-1.704071</td>\n",
       "      <td>0.018112</td>\n",
       "      <td>1</td>\n",
       "      <td>-1.961308</td>\n",
       "    </tr>\n",
       "    <tr>\n",
       "      <th>26307</th>\n",
       "      <td>-1.557791</td>\n",
       "      <td>1.347979</td>\n",
       "      <td>-1.598843</td>\n",
       "      <td>0.317001</td>\n",
       "      <td>1</td>\n",
       "      <td>-1.961308</td>\n",
       "    </tr>\n",
       "    <tr>\n",
       "      <th>26308</th>\n",
       "      <td>-1.557791</td>\n",
       "      <td>1.347979</td>\n",
       "      <td>-1.598843</td>\n",
       "      <td>0.628044</td>\n",
       "      <td>1</td>\n",
       "      <td>-2.072632</td>\n",
       "    </tr>\n",
       "    <tr>\n",
       "      <th>26309</th>\n",
       "      <td>-1.557791</td>\n",
       "      <td>1.347979</td>\n",
       "      <td>-1.598843</td>\n",
       "      <td>0.628044</td>\n",
       "      <td>1</td>\n",
       "      <td>-2.072632</td>\n",
       "    </tr>\n",
       "    <tr>\n",
       "      <th>...</th>\n",
       "      <td>...</td>\n",
       "      <td>...</td>\n",
       "      <td>...</td>\n",
       "      <td>...</td>\n",
       "      <td>...</td>\n",
       "      <td>...</td>\n",
       "    </tr>\n",
       "    <tr>\n",
       "      <th>52578</th>\n",
       "      <td>1.607977</td>\n",
       "      <td>1.347979</td>\n",
       "      <td>-1.388386</td>\n",
       "      <td>-0.450938</td>\n",
       "      <td>1</td>\n",
       "      <td>-1.404688</td>\n",
       "    </tr>\n",
       "    <tr>\n",
       "      <th>52579</th>\n",
       "      <td>1.607977</td>\n",
       "      <td>1.347979</td>\n",
       "      <td>-1.283157</td>\n",
       "      <td>-0.195695</td>\n",
       "      <td>1</td>\n",
       "      <td>-1.404688</td>\n",
       "    </tr>\n",
       "    <tr>\n",
       "      <th>52580</th>\n",
       "      <td>1.607977</td>\n",
       "      <td>1.347979</td>\n",
       "      <td>-1.072701</td>\n",
       "      <td>0.088277</td>\n",
       "      <td>1</td>\n",
       "      <td>-1.293365</td>\n",
       "    </tr>\n",
       "    <tr>\n",
       "      <th>52581</th>\n",
       "      <td>1.607977</td>\n",
       "      <td>1.347979</td>\n",
       "      <td>-1.072701</td>\n",
       "      <td>0.088277</td>\n",
       "      <td>1</td>\n",
       "      <td>-1.293365</td>\n",
       "    </tr>\n",
       "    <tr>\n",
       "      <th>52582</th>\n",
       "      <td>1.607977</td>\n",
       "      <td>1.347979</td>\n",
       "      <td>-1.177929</td>\n",
       "      <td>0.076675</td>\n",
       "      <td>1</td>\n",
       "      <td>-1.404688</td>\n",
       "    </tr>\n",
       "  </tbody>\n",
       "</table>\n",
       "<p>21436 rows × 6 columns</p>\n",
       "</div>"
      ],
      "text/plain": [
       "          month    season      DEWP      HUMI  PRES      TEMP\n",
       "26304 -1.557791  1.347979 -1.704071  0.018112     1 -1.961308\n",
       "26305 -1.557791  1.347979 -1.704071  0.018112     1 -1.961308\n",
       "26307 -1.557791  1.347979 -1.598843  0.317001     1 -1.961308\n",
       "26308 -1.557791  1.347979 -1.598843  0.628044     1 -2.072632\n",
       "26309 -1.557791  1.347979 -1.598843  0.628044     1 -2.072632\n",
       "...         ...       ...       ...       ...   ...       ...\n",
       "52578  1.607977  1.347979 -1.388386 -0.450938     1 -1.404688\n",
       "52579  1.607977  1.347979 -1.283157 -0.195695     1 -1.404688\n",
       "52580  1.607977  1.347979 -1.072701  0.088277     1 -1.293365\n",
       "52581  1.607977  1.347979 -1.072701  0.088277     1 -1.293365\n",
       "52582  1.607977  1.347979 -1.177929  0.076675     1 -1.404688\n",
       "\n",
       "[21436 rows x 6 columns]"
      ]
     },
     "execution_count": 32,
     "metadata": {},
     "output_type": "execute_result"
    }
   ],
   "source": [
    "data"
   ]
  },
  {
   "cell_type": "code",
   "execution_count": 33,
   "id": "6c49f2a2",
   "metadata": {},
   "outputs": [
    {
     "data": {
      "text/html": [
       "<div>\n",
       "<style scoped>\n",
       "    .dataframe tbody tr th:only-of-type {\n",
       "        vertical-align: middle;\n",
       "    }\n",
       "\n",
       "    .dataframe tbody tr th {\n",
       "        vertical-align: top;\n",
       "    }\n",
       "\n",
       "    .dataframe thead th {\n",
       "        text-align: right;\n",
       "    }\n",
       "</style>\n",
       "<table border=\"1\" class=\"dataframe\">\n",
       "  <thead>\n",
       "    <tr style=\"text-align: right;\">\n",
       "      <th></th>\n",
       "      <th>month</th>\n",
       "      <th>season</th>\n",
       "      <th>DEWP</th>\n",
       "      <th>HUMI</th>\n",
       "      <th>PRES</th>\n",
       "      <th>TEMP</th>\n",
       "    </tr>\n",
       "  </thead>\n",
       "  <tbody>\n",
       "    <tr>\n",
       "      <th>count</th>\n",
       "      <td>21436.000000</td>\n",
       "      <td>2.143600e+04</td>\n",
       "      <td>21436.000000</td>\n",
       "      <td>2.143600e+04</td>\n",
       "      <td>21436.000000</td>\n",
       "      <td>2.143600e+04</td>\n",
       "    </tr>\n",
       "    <tr>\n",
       "      <th>mean</th>\n",
       "      <td>0.000000</td>\n",
       "      <td>2.121419e-17</td>\n",
       "      <td>0.000000</td>\n",
       "      <td>-2.121419e-17</td>\n",
       "      <td>0.480780</td>\n",
       "      <td>1.060709e-17</td>\n",
       "    </tr>\n",
       "    <tr>\n",
       "      <th>std</th>\n",
       "      <td>1.000000</td>\n",
       "      <td>1.000000e+00</td>\n",
       "      <td>1.000000</td>\n",
       "      <td>1.000000e+00</td>\n",
       "      <td>0.499642</td>\n",
       "      <td>1.000000e+00</td>\n",
       "    </tr>\n",
       "    <tr>\n",
       "      <th>min</th>\n",
       "      <td>-1.557791</td>\n",
       "      <td>-1.293593e+00</td>\n",
       "      <td>-2.966812</td>\n",
       "      <td>-3.070773e+00</td>\n",
       "      <td>0.000000</td>\n",
       "      <td>-2.295280e+00</td>\n",
       "    </tr>\n",
       "    <tr>\n",
       "      <th>25%</th>\n",
       "      <td>-0.982197</td>\n",
       "      <td>-1.293593e+00</td>\n",
       "      <td>-0.862244</td>\n",
       "      <td>-6.791105e-01</td>\n",
       "      <td>0.000000</td>\n",
       "      <td>-8.480687e-01</td>\n",
       "    </tr>\n",
       "    <tr>\n",
       "      <th>50%</th>\n",
       "      <td>-0.118806</td>\n",
       "      <td>-4.130691e-01</td>\n",
       "      <td>0.084812</td>\n",
       "      <td>1.103756e-01</td>\n",
       "      <td>0.000000</td>\n",
       "      <td>4.252288e-02</td>\n",
       "    </tr>\n",
       "    <tr>\n",
       "      <th>75%</th>\n",
       "      <td>0.744585</td>\n",
       "      <td>4.674549e-01</td>\n",
       "      <td>0.926639</td>\n",
       "      <td>7.921291e-01</td>\n",
       "      <td>1.000000</td>\n",
       "      <td>8.217905e-01</td>\n",
       "    </tr>\n",
       "    <tr>\n",
       "      <th>max</th>\n",
       "      <td>1.607977</td>\n",
       "      <td>1.347979e+00</td>\n",
       "      <td>1.768467</td>\n",
       "      <td>1.730783e+00</td>\n",
       "      <td>1.000000</td>\n",
       "      <td>2.602974e+00</td>\n",
       "    </tr>\n",
       "  </tbody>\n",
       "</table>\n",
       "</div>"
      ],
      "text/plain": [
       "              month        season          DEWP          HUMI          PRES  \\\n",
       "count  21436.000000  2.143600e+04  21436.000000  2.143600e+04  21436.000000   \n",
       "mean       0.000000  2.121419e-17      0.000000 -2.121419e-17      0.480780   \n",
       "std        1.000000  1.000000e+00      1.000000  1.000000e+00      0.499642   \n",
       "min       -1.557791 -1.293593e+00     -2.966812 -3.070773e+00      0.000000   \n",
       "25%       -0.982197 -1.293593e+00     -0.862244 -6.791105e-01      0.000000   \n",
       "50%       -0.118806 -4.130691e-01      0.084812  1.103756e-01      0.000000   \n",
       "75%        0.744585  4.674549e-01      0.926639  7.921291e-01      1.000000   \n",
       "max        1.607977  1.347979e+00      1.768467  1.730783e+00      1.000000   \n",
       "\n",
       "               TEMP  \n",
       "count  2.143600e+04  \n",
       "mean   1.060709e-17  \n",
       "std    1.000000e+00  \n",
       "min   -2.295280e+00  \n",
       "25%   -8.480687e-01  \n",
       "50%    4.252288e-02  \n",
       "75%    8.217905e-01  \n",
       "max    2.602974e+00  "
      ]
     },
     "execution_count": 33,
     "metadata": {},
     "output_type": "execute_result"
    }
   ],
   "source": [
    "data.describe()"
   ]
  },
  {
   "cell_type": "code",
   "execution_count": 51,
   "id": "3c3d01e5",
   "metadata": {},
   "outputs": [],
   "source": [
    "train_x = T.tensor(data.drop(['PRES'], axis=1).to_numpy(), dtype=T.float32).to(device)\n",
    "train_y = T.tensor(data['PRES'].to_numpy(), dtype=T.long).to(device)"
   ]
  },
  {
   "cell_type": "markdown",
   "id": "61078dd0",
   "metadata": {},
   "source": [
    "Проблемы с быстродействием. Уменьшим число эпох"
   ]
  },
  {
   "cell_type": "code",
   "execution_count": 54,
   "id": "e4d4420f",
   "metadata": {},
   "outputs": [
    {
     "name": "stdout",
     "output_type": "stream",
     "text": [
      "epoch =    0    loss = 0.2512\n",
      "epoch =   10    loss = 0.0640\n",
      "epoch =   20    loss = 0.0631\n",
      "Коэффициенты модели без регуляризация\n",
      "[ 1.0856626   1.1052082  -2.019232   -0.23652948 -2.227636  ] [0.531966]\n"
     ]
    }
   ],
   "source": [
    "num = int(train_y.size()[0])\n",
    "dim_x = 5\n",
    "res = LogisticRegression(dim_x)\n",
    "res.train(train_x, train_y, num, 0.0005, 30, reg=0, verbose=10)\n",
    "res.results('без регуляризация')"
   ]
  },
  {
   "cell_type": "markdown",
   "id": "3b8caf33",
   "metadata": {},
   "source": [
    "# Посмотрим как покажет себя sklearn"
   ]
  },
  {
   "cell_type": "code",
   "execution_count": 55,
   "id": "2138a7c5",
   "metadata": {},
   "outputs": [
    {
     "data": {
      "text/plain": [
       "LogisticRegression()"
      ]
     },
     "execution_count": 55,
     "metadata": {},
     "output_type": "execute_result"
    }
   ],
   "source": [
    "from sklearn.linear_model import LogisticRegression\n",
    "res3 = LogisticRegression()\n",
    "res3.fit(data.drop(['PRES'], axis=1).to_numpy(), data['PRES'].to_numpy())"
   ]
  },
  {
   "cell_type": "code",
   "execution_count": 56,
   "id": "e0cb2e03",
   "metadata": {},
   "outputs": [
    {
     "name": "stdout",
     "output_type": "stream",
     "text": [
      "[[ 1.65479326  0.75872407 -0.62277762 -1.12085302 -4.15814051]]\n"
     ]
    }
   ],
   "source": [
    "print(res3.coef_)"
   ]
  },
  {
   "cell_type": "code",
   "execution_count": 59,
   "id": "2b1055ab",
   "metadata": {},
   "outputs": [
    {
     "name": "stdout",
     "output_type": "stream",
     "text": [
      "[[0.34836558]]\n"
     ]
    }
   ],
   "source": [
    "print(res3.intercept_[:,None])"
   ]
  },
  {
   "cell_type": "code",
   "execution_count": 62,
   "id": "e3b0b6e3",
   "metadata": {},
   "outputs": [
    {
     "data": {
      "text/plain": [
       "2.9840686667280534"
      ]
     },
     "execution_count": 62,
     "metadata": {},
     "output_type": "execute_result"
    }
   ],
   "source": [
    "from sklearn.metrics import log_loss\n",
    "log_loss(data['PRES'].to_numpy(), res3.predict(data.drop(['PRES'], axis=1).to_numpy()))"
   ]
  },
  {
   "cell_type": "code",
   "execution_count": null,
   "id": "252a9e6f",
   "metadata": {},
   "outputs": [],
   "source": []
  }
 ],
 "metadata": {
  "kernelspec": {
   "display_name": "Python 3 (ipykernel)",
   "language": "python",
   "name": "python3"
  },
  "language_info": {
   "codemirror_mode": {
    "name": "ipython",
    "version": 3
   },
   "file_extension": ".py",
   "mimetype": "text/x-python",
   "name": "python",
   "nbconvert_exporter": "python",
   "pygments_lexer": "ipython3",
   "version": "3.9.6"
  }
 },
 "nbformat": 4,
 "nbformat_minor": 5
}
